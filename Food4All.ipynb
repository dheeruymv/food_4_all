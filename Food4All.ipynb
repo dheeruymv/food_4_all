{
  "nbformat": 4,
  "nbformat_minor": 0,
  "metadata": {
    "colab": {
      "provenance": [],
      "collapsed_sections": []
    },
    "kernelspec": {
      "name": "python3",
      "display_name": "Python 3"
    },
    "language_info": {
      "name": "python"
    }
  },
  "cells": [
    {
      "cell_type": "markdown",
      "source": [
        "Functions "
      ],
      "metadata": {
        "id": "pJUNv4Njy9Ad"
      }
    },
    {
      "cell_type": "code",
      "execution_count": 57,
      "metadata": {
        "id": "VBuuzJdFuajM"
      },
      "outputs": [],
      "source": [
        "import csv\n",
        "import pandas as pd\n",
        "import json"
      ]
    },
    {
      "cell_type": "code",
      "source": [
        "def userDetailsHeader():\n",
        "   with open('User Details.csv','a',newline=\"\") as file:\n",
        "    myFile = csv.writer(file)\n",
        "    myFile.writerow([\"UserName\",\"UserCity\",\"UserZipcode\",\"UserPreference\"])\n",
        "    "
      ],
      "metadata": {
        "id": "fdsvMYVv0VVU"
      },
      "execution_count": 33,
      "outputs": []
    },
    {
      "cell_type": "code",
      "source": [
        "def storeuserprofile():\n",
        "  with open('User Details.csv','a',newline=\"\") as file:\n",
        "    myFile = csv.writer(file)\n",
        "   # myFile.writerow([\"UserName\",\"UserCity\",\"UserZipcode\",\"UserPreference\"])\n",
        "\n",
        "    #noOfRows = int(input(\"Enter how many preferences provided \"))\n",
        "    #for i in range(noOfRows):\n",
        "    UserName = input(\"UserName \"+ str(0+1) +\": Enter UserName(As created by UI...): \")\n",
        "    UserCity = input(\"UserCity \"+ str(0+1) +\": Enter UserCity: \")\n",
        "    UserZipcode = input(\"UserZipcode \"+ str(0+1) +\": Enter UserZipcode(As created by UI...): \")\n",
        "    UserPreference = input(\"UserPreference \"+ str(0+1) +\": Enter UserPreference(Vegetarian/Non-Vegetarian/Vegan): \")\n",
        "    myFile.writerow([UserName,UserCity,UserZipcode,UserPreference])"
      ],
      "metadata": {
        "id": "VATVmxkcu0i1"
      },
      "execution_count": 34,
      "outputs": []
    },
    {
      "cell_type": "code",
      "source": [
        "def lookuserprofileAndGetPref(UserName):\n",
        "  df = pd.read_csv(open(r'User Details.csv', 'rb'))\n",
        "  #df\n",
        "  df1 = df.loc[df['UserName'] == UserName]\n",
        "  #df1\n",
        "  #df = df.loc[df['flag'] == 'Not feasible'].copy() \n",
        "  return df1\n"
      ],
      "metadata": {
        "id": "1D7fsxkHw277"
      },
      "execution_count": 105,
      "outputs": []
    },
    {
      "cell_type": "code",
      "source": [
        "def getFoodItemsOnPref(UserPreference):\n",
        "  f = open('Database.json')\n",
        "  \n",
        "  # returns JSON object as \n",
        "  # a dictionary\n",
        "  data = json.load(f)\n",
        "  \n",
        "  #for i in data[UserPreference]:\n",
        "   #   print(i)\n",
        "    \n",
        "  # Closing file\n",
        "  f.close()\n",
        " # test = UserPreference.lower()\n",
        "  #print(test)\n",
        "  return data.get(UserPreference.lower())"
      ],
      "metadata": {
        "id": "fK561TdD112M"
      },
      "execution_count": 89,
      "outputs": []
    },
    {
      "cell_type": "code",
      "source": [
        "def getAvailabilityOnZipByPref(foodPrefer,zipcode):\n",
        "  #print(zipcode)\n",
        "  #print(foodPrefer)\n",
        "  f = open('VendorDB.json')\n",
        "  \n",
        "  # returns JSON object as \n",
        "  # a dictionary\n",
        "  vendordata = json.load(f)\n",
        "  \n",
        "  for sub in vendordata:\n",
        "    if sub['ZipCode'] == zipcode:\n",
        "        res = sub\n",
        "        break\n",
        "  #print(type(res))\n",
        "  # printing result\n",
        "  #print(\"The filtered dictionary value is : \" + str(res))\n",
        "\n",
        "  values = res['SuplusEndOfDayFood']\n",
        "\n",
        "  # Indices list of matching element from other list\n",
        "  # Using list comprehension + set() + enumerate()\n",
        "  temp = set(foodPrefer)\n",
        "  result = [val for i, val in enumerate(values) if val in temp]\n",
        "  \n",
        "  # printing result \n",
        "  #print(\"The matching element Indices list : \" + str(result))\n",
        "  return(str(result))\n",
        "  #print(list_of_all_values)                 \n"
      ],
      "metadata": {
        "id": "BnROgEipBO2X"
      },
      "execution_count": 167,
      "outputs": []
    },
    {
      "cell_type": "markdown",
      "source": [
        "Execute Section"
      ],
      "metadata": {
        "id": "oj7gYNAyy_zQ"
      }
    },
    {
      "cell_type": "code",
      "source": [
        "userDetailsHeader()"
      ],
      "metadata": {
        "id": "pPJYv8Ua0jdY"
      },
      "execution_count": 108,
      "outputs": []
    },
    {
      "cell_type": "code",
      "source": [
        "storeuserprofile()"
      ],
      "metadata": {
        "colab": {
          "base_uri": "https://localhost:8080/"
        },
        "id": "87IbClX9zB_q",
        "outputId": "9b07fcc1-2524-4779-f127-c420ff31892d"
      },
      "execution_count": 109,
      "outputs": [
        {
          "name": "stdout",
          "output_type": "stream",
          "text": [
            "UserName 1: Enter UserName(As created by UI...): test3\n",
            "UserCity 1: Enter UserCity: tarrytown\n",
            "UserZipcode 1: Enter UserZipcode(As created by UI...): 90870\n",
            "UserPreference 1: Enter UserPreference(Vegetarian/Non-Vegetarian/Vegan): Vegan\n"
          ]
        }
      ]
    },
    {
      "cell_type": "code",
      "source": [
        "df = lookuserprofileAndGetPref('test1')\n",
        "df['UserPreference'][0]"
      ],
      "metadata": {
        "colab": {
          "base_uri": "https://localhost:8080/",
          "height": 36
        },
        "id": "Ryw_vQf1zH2o",
        "outputId": "d48b5bf0-722a-4dd8-b1f9-cd3e918c79d3"
      },
      "execution_count": 125,
      "outputs": [
        {
          "output_type": "execute_result",
          "data": {
            "text/plain": [
              "'Vegan'"
            ],
            "application/vnd.google.colaboratory.intrinsic+json": {
              "type": "string"
            }
          },
          "metadata": {},
          "execution_count": 125
        }
      ]
    },
    {
      "cell_type": "code",
      "source": [
        "items = getFoodItemsOnPref(df['UserPreference'][0])\n",
        "type(items)\n",
        "\n"
      ],
      "metadata": {
        "colab": {
          "base_uri": "https://localhost:8080/"
        },
        "id": "NMR_puMd1zL4",
        "outputId": "6cbe0ec1-f439-4159-fefb-38804a0168cb"
      },
      "execution_count": 127,
      "outputs": [
        {
          "output_type": "execute_result",
          "data": {
            "text/plain": [
              "list"
            ]
          },
          "metadata": {},
          "execution_count": 127
        }
      ]
    },
    {
      "cell_type": "code",
      "source": [
        "getAvailabilityOnZipByPref(items,df['UserZipcode'][0])\n"
      ],
      "metadata": {
        "colab": {
          "base_uri": "https://localhost:8080/",
          "height": 36
        },
        "id": "6Kfoht11H1XJ",
        "outputId": "b51fd0e5-c7a1-4999-e3e0-cb51b565a79d"
      },
      "execution_count": 168,
      "outputs": [
        {
          "output_type": "execute_result",
          "data": {
            "text/plain": [
              "\"['Water', 'Green Beans', 'Carrots', 'Corn', 'Tomatoes', 'Salt', 'Sugar', 'Paprika']\""
            ],
            "application/vnd.google.colaboratory.intrinsic+json": {
              "type": "string"
            }
          },
          "metadata": {},
          "execution_count": 168
        }
      ]
    },
    {
      "cell_type": "code",
      "source": [],
      "metadata": {
        "id": "ZhmUXlpsHuwZ"
      },
      "execution_count": null,
      "outputs": []
    }
  ]
}